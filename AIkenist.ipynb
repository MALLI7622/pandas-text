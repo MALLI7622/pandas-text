{
 "cells": [
  {
   "cell_type": "code",
   "execution_count": 1,
   "metadata": {},
   "outputs": [],
   "source": [
    "import pandas as pd\n",
    "data =pd.read_csv('DOB - Sheet1.csv')"
   ]
  },
  {
   "cell_type": "code",
   "execution_count": 2,
   "metadata": {},
   "outputs": [
    {
     "data": {
      "text/html": [
       "<div>\n",
       "<style scoped>\n",
       "    .dataframe tbody tr th:only-of-type {\n",
       "        vertical-align: middle;\n",
       "    }\n",
       "\n",
       "    .dataframe tbody tr th {\n",
       "        vertical-align: top;\n",
       "    }\n",
       "\n",
       "    .dataframe thead th {\n",
       "        text-align: right;\n",
       "    }\n",
       "</style>\n",
       "<table border=\"1\" class=\"dataframe\">\n",
       "  <thead>\n",
       "    <tr style=\"text-align: right;\">\n",
       "      <th></th>\n",
       "      <th>fname</th>\n",
       "      <th>lname</th>\n",
       "      <th>dob</th>\n",
       "    </tr>\n",
       "  </thead>\n",
       "  <tbody>\n",
       "    <tr>\n",
       "      <td>0</td>\n",
       "      <td>peter</td>\n",
       "      <td>anfa</td>\n",
       "      <td>12-Jun-1999</td>\n",
       "    </tr>\n",
       "    <tr>\n",
       "      <td>1</td>\n",
       "      <td>james</td>\n",
       "      <td>sjisej</td>\n",
       "      <td>11-Sep-2020</td>\n",
       "    </tr>\n",
       "    <tr>\n",
       "      <td>2</td>\n",
       "      <td>catherin</td>\n",
       "      <td>skjenfji</td>\n",
       "      <td>21-Aug-2020</td>\n",
       "    </tr>\n",
       "    <tr>\n",
       "      <td>3</td>\n",
       "      <td>Sayem</td>\n",
       "      <td>ijbvijsd</td>\n",
       "      <td>31-Dec-1990</td>\n",
       "    </tr>\n",
       "    <tr>\n",
       "      <td>4</td>\n",
       "      <td>Appu</td>\n",
       "      <td>djbvuis</td>\n",
       "      <td>14-Jan-1998</td>\n",
       "    </tr>\n",
       "    <tr>\n",
       "      <td>5</td>\n",
       "      <td>Honey</td>\n",
       "      <td>sbsd</td>\n",
       "      <td>14-Feb-1999</td>\n",
       "    </tr>\n",
       "    <tr>\n",
       "      <td>6</td>\n",
       "      <td>peter</td>\n",
       "      <td>iubei</td>\n",
       "      <td>14-Jun-1999</td>\n",
       "    </tr>\n",
       "    <tr>\n",
       "      <td>7</td>\n",
       "      <td>Senthik</td>\n",
       "      <td>sbfi</td>\n",
       "      <td>7-Dec-1990</td>\n",
       "    </tr>\n",
       "    <tr>\n",
       "      <td>8</td>\n",
       "      <td>Arjun</td>\n",
       "      <td>svsjbf</td>\n",
       "      <td>13-Oct-1999</td>\n",
       "    </tr>\n",
       "  </tbody>\n",
       "</table>\n",
       "</div>"
      ],
      "text/plain": [
       "      fname     lname          dob\n",
       "0     peter      anfa  12-Jun-1999\n",
       "1     james    sjisej  11-Sep-2020\n",
       "2  catherin  skjenfji  21-Aug-2020\n",
       "3     Sayem  ijbvijsd  31-Dec-1990\n",
       "4      Appu   djbvuis  14-Jan-1998\n",
       "5     Honey      sbsd  14-Feb-1999\n",
       "6     peter     iubei  14-Jun-1999\n",
       "7   Senthik      sbfi   7-Dec-1990\n",
       "8     Arjun    svsjbf  13-Oct-1999"
      ]
     },
     "execution_count": 2,
     "metadata": {},
     "output_type": "execute_result"
    }
   ],
   "source": [
    "data"
   ]
  },
  {
   "cell_type": "code",
   "execution_count": 30,
   "metadata": {},
   "outputs": [
    {
     "name": "stdout",
     "output_type": "stream",
     "text": [
      "[9, 11, 16, 13, 11, 9, 10, 11, 11]\n"
     ]
    }
   ],
   "source": [
    "name_len = []\n",
    "\n",
    "for i in range(len(data)):\n",
    "    \n",
    "    name_len.append(len(data['fname'][i] + data['lname'][i]))\n",
    "    \n",
    "print(name_len)"
   ]
  },
  {
   "cell_type": "code",
   "execution_count": 31,
   "metadata": {},
   "outputs": [
    {
     "name": "stdout",
     "output_type": "stream",
     "text": [
      "{9: [0, 5], 10: [6], 11: [1, 4, 7, 8], 13: [3], 16: [2]}\n"
     ]
    }
   ],
   "source": [
    "dup_ind = {}\n",
    "for a in s:\n",
    "    d = []\n",
    "    for i in range(len(name_len)):\n",
    "        if name_len[i] == a:\n",
    "            d.append(i)\n",
    "        dup_ind[a] = d\n",
    "print(dup_ind)"
   ]
  },
  {
   "cell_type": "code",
   "execution_count": 32,
   "metadata": {},
   "outputs": [],
   "source": [
    "dob = data['dob'].tolist()"
   ]
  },
  {
   "cell_type": "code",
   "execution_count": 21,
   "metadata": {},
   "outputs": [],
   "source": [
    "from datetime import datetime\n",
    "dob.sort(key = lambda date: datetime.strptime(date, '%d-%b-%Y'))"
   ]
  },
  {
   "cell_type": "code",
   "execution_count": 22,
   "metadata": {},
   "outputs": [
    {
     "name": "stdout",
     "output_type": "stream",
     "text": [
      "[4, 8, 7, 1, 2, 3, 5, 0, 6]\n"
     ]
    }
   ],
   "source": [
    "dob_pref = []\n",
    "for i in data['dob'].tolist():\n",
    "    dob_pref.append(dob.index(i))\n",
    "print(dob_pref)"
   ]
  },
  {
   "cell_type": "code",
   "execution_count": 27,
   "metadata": {},
   "outputs": [
    {
     "name": "stdout",
     "output_type": "stream",
     "text": [
      "Honey sbsd\n",
      "peter anfa\n",
      "peter iubei\n",
      "Senthik sbfi\n",
      "Appu djbvuis\n",
      "Arjun svsjbf\n",
      "james sjisej\n",
      "Sayem ijbvijsd\n",
      "catherin skjenfji\n"
     ]
    }
   ],
   "source": [
    "for i in list(set(names_len)):\n",
    "    if len(dup_ind[i]) > 1:\n",
    "        h = []\n",
    "        for j in dup_ind[i]:\n",
    "            h.append(dob_pref[j])\n",
    "        for i in sorted(h):\n",
    "            print(data['fname'][dob_pref.index(i)] + \" \"+data['lname'][dob_pref.index(i)])\n",
    "    else:\n",
    "        print(data['fname'][name_len.index(i)]+\" \"+data['lname'][name_len.index(i)])"
   ]
  },
  {
   "cell_type": "code",
   "execution_count": null,
   "metadata": {},
   "outputs": [],
   "source": []
  },
  {
   "cell_type": "code",
   "execution_count": null,
   "metadata": {},
   "outputs": [],
   "source": []
  },
  {
   "cell_type": "code",
   "execution_count": null,
   "metadata": {},
   "outputs": [],
   "source": []
  },
  {
   "cell_type": "code",
   "execution_count": null,
   "metadata": {},
   "outputs": [],
   "source": []
  },
  {
   "cell_type": "code",
   "execution_count": null,
   "metadata": {},
   "outputs": [],
   "source": []
  },
  {
   "cell_type": "code",
   "execution_count": null,
   "metadata": {},
   "outputs": [],
   "source": []
  },
  {
   "cell_type": "code",
   "execution_count": null,
   "metadata": {},
   "outputs": [],
   "source": []
  }
 ],
 "metadata": {
  "kernelspec": {
   "display_name": "Python 3",
   "language": "python",
   "name": "python3"
  },
  "language_info": {
   "codemirror_mode": {
    "name": "ipython",
    "version": 3
   },
   "file_extension": ".py",
   "mimetype": "text/x-python",
   "name": "python",
   "nbconvert_exporter": "python",
   "pygments_lexer": "ipython3",
   "version": "3.7.4"
  }
 },
 "nbformat": 4,
 "nbformat_minor": 2
}
